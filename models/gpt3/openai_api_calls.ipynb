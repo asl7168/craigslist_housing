{
 "cells": [
  {
   "attachments": {},
   "cell_type": "markdown",
   "metadata": {},
   "source": [
    "Steps adapted from [this tutorial](https://www.indiehackers.com/post/how-to-fine-tune-a-gpt-3-model-using-python-with-your-own-data-for-improved-performance-198dfe51d6)."
   ]
  },
  {
   "attachments": {},
   "cell_type": "markdown",
   "metadata": {},
   "source": [
    "#### Load Modules and Validate Data\n",
    "\n",
    "- Data has already been created/set up via [gpt3_json_setup.py](gpt3_json_setup.py)\n",
    "- If you have not created/retrieved a secret key from the OpenAI API, do so through [beta.openai.com](https://beta.openai.com)"
   ]
  },
  {
   "cell_type": "code",
   "execution_count": 12,
   "metadata": {},
   "outputs": [],
   "source": [
    "import openai\n",
    "from openai_credentials import skey\n",
    "from os import listdir \n",
    "\n",
    "openai.api_key = skey\n",
    "seattle_train = [f\"./json_files/{s}\" for s in listdir(\"./json_files\") if \"seattle_train_\" in s]\n",
    "chicago_train = \"./json_files/seattle_train.jsonl\"\n",
    "# validate data with $ openai tools fine_tunes.prepare_data -f CITY_train.jsonl\n",
    "\n",
    "seattle_train_id = False\n",
    "chicago_train_id = False"
   ]
  },
  {
   "cell_type": "code",
   "execution_count": null,
   "metadata": {},
   "outputs": [],
   "source": [
    "seattle_upload_responses = [openai.File.create(file=open(s, \"rb\"), purpose=\"fine-tune\") for s in seattle_train]\n",
    "\n",
    "seattle_train_id = seattle_upload_responses[0].id  # if there are multiple training files, train on the 0th one first\n",
    "seattle_upload_responses[0]"
   ]
  },
  {
   "cell_type": "code",
   "execution_count": null,
   "metadata": {},
   "outputs": [],
   "source": [
    "chicago_upload_response = openai.File.create(\n",
    "  file = open(chicago_train, \"rb\"),\n",
    "  purpose = 'fine-tune'\n",
    ")\n",
    "\n",
    "chicago_train_id = chicago_upload_response.id\n",
    "chicago_upload_response"
   ]
  },
  {
   "attachments": {},
   "cell_type": "markdown",
   "metadata": {},
   "source": [
    "#### Begin Fine-Tuning"
   ]
  },
  {
   "cell_type": "code",
   "execution_count": null,
   "metadata": {},
   "outputs": [],
   "source": [
    "if seattle_train_id:\n",
    "    seattle_fine_tune_response = openai.FineTune.create(training_file=seattle_train_id, model=\"ada\")\n",
    "    seattle_fine_tune_response"
   ]
  },
  {
   "cell_type": "code",
   "execution_count": null,
   "metadata": {},
   "outputs": [],
   "source": [
    "if chicago_train_id:\n",
    "    chicago_fine_tune_response = openai.FineTune.create(training_file=chicago_train_id, model=\"ada\")\n",
    "    chicago_fine_tune_response"
   ]
  },
  {
   "attachments": {},
   "cell_type": "markdown",
   "metadata": {},
   "source": [
    "#### Check Fine-Tuning Progress"
   ]
  },
  {
   "attachments": {},
   "cell_type": "markdown",
   "metadata": {},
   "source": [
    "Option 1: use openai.FineTune.list_events() and pass in the CITY_fine_tune_response id to list all the current events. This will give you a list of all the events related to the fine-tuning job you're running:"
   ]
  },
  {
   "cell_type": "code",
   "execution_count": null,
   "metadata": {},
   "outputs": [],
   "source": [
    "if seattle_train_id:\n",
    "    seattle_fine_tune_events = openai.FineTune.list_events(id=seattle_fine_tune_response.id)\n",
    "    seattle_fine_tune_events\n",
    "\n",
    "if chicago_train_id:\n",
    "    chicago_fine_tune_events = openai.FineTune.list_events(id=chicago_fine_tune_response.id)\n",
    "    chicago_fine_tune_events"
   ]
  },
  {
   "attachments": {},
   "cell_type": "markdown",
   "metadata": {},
   "source": [
    "Option 2: use openai.FineTune.retrieve(id=CITY_fine_tune_response.id) to retrieve a specific fine-tune. This will give you a JSON object with information about a specific fine-tune job:"
   ]
  },
  {
   "cell_type": "code",
   "execution_count": null,
   "metadata": {},
   "outputs": [],
   "source": [
    "if seattle_train_id:\n",
    "    seattle_retrieve_response = openai.FineTune.retrieve(id=seattle_fine_tune_response.id)\n",
    "    seattle_retrieve_response\n",
    "\n",
    "if chicago_train_id:\n",
    "    chicago_retrieve_response = openai.FineTune.retrieve(id=chicago_fine_tune_response.id)\n",
    "    chicago_retrieve_response"
   ]
  },
  {
   "attachments": {},
   "cell_type": "markdown",
   "metadata": {},
   "source": [
    "#### Continue Fine-Tuning\n",
    "\n",
    "TBD: RELEVANT FOR SEATTLE\n",
    "https://platform.openai.com/docs/guides/fine-tuning/advanced-usage\n",
    "\n",
    "May just need to do openai.FineTune.create with model=ada:VERSION_THAT_GETS_OUTPUT"
   ]
  },
  {
   "attachments": {},
   "cell_type": "markdown",
   "metadata": {},
   "source": [
    "#### Save Fine-Tuned Model"
   ]
  },
  {
   "attachments": {},
   "cell_type": "markdown",
   "metadata": {},
   "source": [
    "##### Troubleshooting fine_tuned_model as null\n",
    "\n",
    "During the fine-tuning process, the fine_tuned_model key may not be immediately available in the fine_tune_response object returned by openai.FineTune.create().\n",
    "\n",
    "To check the status of your fine-tuning process, you can call the openai.FineTune.retrieve() function and pass in the fine_tune_response.id. This function will return a JSON object with information about the training status, such as the current epoch, the current batch, the training loss, and the validation loss.\n",
    "\n",
    "After the fine-tuning process is complete, you can check the status of all your fine-tuned models by calling openai.FineTune.list(). This will list all of your fine-tunes and their current status.\n",
    "\n",
    "Once the fine-tuning process is complete, you can retrieve the fine_tuned_model key by calling the openai.FineTune.retrieve() function again and passing in the fine_tune_response.id. This will return a JSON object with the key fine_tuned_model and the ID of the fine-tuned model that you can use for further completions."
   ]
  },
  {
   "cell_type": "code",
   "execution_count": 3,
   "metadata": {},
   "outputs": [
    {
     "data": {
      "text/plain": [
       "<OpenAIObject list at 0x161e137aea0> JSON: {\n",
       "  \"data\": [],\n",
       "  \"object\": \"list\"\n",
       "}"
      ]
     },
     "execution_count": 3,
     "metadata": {},
     "output_type": "execute_result"
    }
   ],
   "source": [
    "openai.FineTune.list()"
   ]
  },
  {
   "attachments": {},
   "cell_type": "markdown",
   "metadata": {},
   "source": [
    "If CITY_fine_tuned_model != null"
   ]
  },
  {
   "cell_type": "code",
   "execution_count": null,
   "metadata": {},
   "outputs": [],
   "source": [
    "if seattle_train_id:\n",
    "    seattle_fine_tuned_model = seattle_fine_tune_response.fine_tuned_model\n",
    "    seattle_fine_tuned_model\n",
    "\n",
    "if chicago_train_id:\n",
    "    chicago_fine_tuned_model = chicago_fine_tune_response.fine_tuned_model\n",
    "    chicago_fine_tuned_model"
   ]
  },
  {
   "attachments": {},
   "cell_type": "markdown",
   "metadata": {},
   "source": [
    "If CITY_fine_tuned_model == null"
   ]
  },
  {
   "cell_type": "code",
   "execution_count": 4,
   "metadata": {},
   "outputs": [],
   "source": [
    "if seattle_train_id:\n",
    "    seattle_retrieve_response = openai.FineTune.retrieve(seattle_fine_tune_response.id)\n",
    "    seattle_fine_tuned_model = seattle_retrieve_response.fine_tuned_model\n",
    "    seattle_fine_tuned_model\n",
    "\n",
    "if chicago_train_id:\n",
    "    chicago_retrieve_response = openai.FineTune.retrieve(chicago_fine_tune_response.id)\n",
    "    chicago_fine_tuned_model = chicago_retrieve_response.fine_tuned_model\n",
    "    chicago_fine_tuned_model"
   ]
  },
  {
   "attachments": {},
   "cell_type": "markdown",
   "metadata": {},
   "source": [
    "#### Test Fine-Tuned Model"
   ]
  },
  {
   "cell_type": "code",
   "execution_count": 1,
   "metadata": {},
   "outputs": [],
   "source": [
    "import jsonlines\n",
    "\n",
    "seattle_prompts = []\n",
    "with jsonlines.open(\"./json_files/seattle_test.jsonl\") as dicts:\n",
    "    seattle_prompts = [d[\"prompt\"] for d in dicts]  # get all prompts from test set\n",
    "\n",
    "chicago_prompts = []\n",
    "with jsonlines.open(\"./json_files/seattle_test.jsonl\") as dicts:\n",
    "    chicago_prompts = [d[\"prompt\"] for d in dicts]  # get all prompts from test set\n",
    "\n",
    "# seattle_prompts\n",
    "# chicago_prompts"
   ]
  },
  {
   "cell_type": "code",
   "execution_count": null,
   "metadata": {},
   "outputs": [],
   "source": [
    "answer = openai.Completion.create(\n",
    "  model=fine_tuned_model,\n",
    "  prompt=new_prompt,\n",
    "  max_tokens=100,\n",
    "  temperature=0\n",
    ")\n",
    "answer['choices'][0]['text']"
   ]
  }
 ],
 "metadata": {
  "kernelspec": {
   "display_name": "craig_env",
   "language": "python",
   "name": "python3"
  },
  "language_info": {
   "codemirror_mode": {
    "name": "ipython",
    "version": 3
   },
   "file_extension": ".py",
   "mimetype": "text/x-python",
   "name": "python",
   "nbconvert_exporter": "python",
   "pygments_lexer": "ipython3",
   "version": "3.9.6"
  },
  "orig_nbformat": 4
 },
 "nbformat": 4,
 "nbformat_minor": 2
}
